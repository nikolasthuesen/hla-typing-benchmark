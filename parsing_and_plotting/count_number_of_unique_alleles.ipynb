{
 "cells": [
  {
   "cell_type": "code",
   "execution_count": 6,
   "metadata": {},
   "outputs": [],
   "source": [
    "import pandas as pd\n",
    "from parse_data import *"
   ]
  },
  {
   "cell_type": "markdown",
   "metadata": {},
   "source": [
    "# Count total number of alleles (4-field resolution)"
   ]
  },
  {
   "cell_type": "code",
   "execution_count": 9,
   "metadata": {},
   "outputs": [
    {
     "data": {
      "text/plain": [
       "7452"
      ]
     },
     "execution_count": 9,
     "metadata": {},
     "output_type": "execute_result"
    }
   ],
   "source": [
    "imgt_df = pd.read_csv('../reference_data/Allelelist.3480.txt', comment='#')\n",
    "hla_a_df = imgt_df[imgt_df['Allele'].str.startswith('A*')]\n",
    "len(hla_a_df)"
   ]
  },
  {
   "cell_type": "markdown",
   "metadata": {},
   "source": [
    "# Count number of alleles in 3-field resolution"
   ]
  },
  {
   "cell_type": "code",
   "execution_count": 10,
   "metadata": {},
   "outputs": [
    {
     "name": "stdout",
     "output_type": "stream",
     "text": [
      "6249\n"
     ]
    }
   ],
   "source": [
    "print(len(set([convert_to_three_field(allele) for allele in hla_a_df['Allele']])))"
   ]
  },
  {
   "cell_type": "markdown",
   "metadata": {},
   "source": [
    "# Count number of alleles in 2-field resolution"
   ]
  },
  {
   "cell_type": "code",
   "execution_count": 11,
   "metadata": {},
   "outputs": [
    {
     "name": "stdout",
     "output_type": "stream",
     "text": [
      "4714\n"
     ]
    }
   ],
   "source": [
    "print(len(set([convert_to_two_field(allele) for allele in hla_a_df['Allele']])))"
   ]
  },
  {
   "cell_type": "markdown",
   "metadata": {},
   "source": [
    "# Count number of alleles in 1-field resolution"
   ]
  },
  {
   "cell_type": "code",
   "execution_count": 12,
   "metadata": {},
   "outputs": [
    {
     "name": "stdout",
     "output_type": "stream",
     "text": [
      "21\n"
     ]
    }
   ],
   "source": [
    "print(len(set([convert_to_one_field(allele) for allele in hla_a_df['Allele']])))"
   ]
  },
  {
   "cell_type": "markdown",
   "metadata": {},
   "source": [
    "# Count number of P group alleles"
   ]
  },
  {
   "cell_type": "code",
   "execution_count": 13,
   "metadata": {},
   "outputs": [],
   "source": [
    "p_group_dict = make_p_group_dict()"
   ]
  },
  {
   "cell_type": "code",
   "execution_count": 21,
   "metadata": {},
   "outputs": [
    {
     "name": "stdout",
     "output_type": "stream",
     "text": [
      "3608\n"
     ]
    }
   ],
   "source": [
    "#Number of P group alleles for HLA-A\n",
    "p_group_alleles_set = set([allele for allele in p_group_dict.values() if allele.startswith('A')])\n",
    "print(len(p_group_alleles))"
   ]
  },
  {
   "cell_type": "code",
   "execution_count": 22,
   "metadata": {},
   "outputs": [],
   "source": [
    "#Validation:\n",
    "df = pd.read_csv('../reference_data/hla_nom_p.txt', comment='#', header=None)\n",
    "\n",
    "def format_allele(allele):\n",
    "    if len(allele.split('/')) > 1:\n",
    "        return f\"A*{allele.split('/')[-1].split(';')[-1]}\".rstrip('P').rstrip('Q').rstrip('L')\n",
    "    else:\n",
    "        return allele.replace(';', '').rstrip('P').rstrip('Q').rstrip('L')\n",
    "\n",
    "validate_p_group_alleles_set = set([format_allele(allele) for allele in df[0] if allele.startswith('A*')])"
   ]
  },
  {
   "cell_type": "code",
   "execution_count": 23,
   "metadata": {},
   "outputs": [
    {
     "data": {
      "text/plain": [
       "set()"
      ]
     },
     "execution_count": 23,
     "metadata": {},
     "output_type": "execute_result"
    }
   ],
   "source": [
    "p_group_alleles_set - validate_p_group_alleles_set"
   ]
  },
  {
   "cell_type": "code",
   "execution_count": 24,
   "metadata": {},
   "outputs": [
    {
     "data": {
      "text/plain": [
       "3967"
      ]
     },
     "execution_count": 24,
     "metadata": {},
     "output_type": "execute_result"
    }
   ],
   "source": [
    "#Including null alleles:\n",
    "len(set([convert_to_p_group(allele, p_group_dict=p_group_dict) for allele in hla_a_df['Allele']]))"
   ]
  },
  {
   "cell_type": "markdown",
   "metadata": {},
   "source": [
    "# Count number of alleles in pseudo sequence resolution"
   ]
  },
  {
   "cell_type": "code",
   "execution_count": 38,
   "metadata": {},
   "outputs": [],
   "source": [
    "pseudosequence_dict = make_e_group_dict()"
   ]
  },
  {
   "cell_type": "code",
   "execution_count": 39,
   "metadata": {},
   "outputs": [
    {
     "data": {
      "text/plain": [
       "1118"
      ]
     },
     "execution_count": 39,
     "metadata": {},
     "output_type": "execute_result"
    }
   ],
   "source": [
    "unique_pseudosequences = set([convert_to_e_group(allele, e_group_dict=pseudosequence_dict, p_group_dict=p_group_dict) for allele in p_group_alleles_set])\n",
    "len(unique_pseudosequences)"
   ]
  },
  {
   "cell_type": "code",
   "execution_count": 40,
   "metadata": {},
   "outputs": [
    {
     "data": {
      "text/plain": [
       "1187"
      ]
     },
     "execution_count": 40,
     "metadata": {},
     "output_type": "execute_result"
    }
   ],
   "source": [
    "#Number of pseudosequence alleles for HLA-A taking a standpoint in the pseudosequence dataset instead of the P group dict\n",
    "hla_a_pseudosequence_dict = {allele : seq for allele, seq in pseudosequence_dict.items() if allele.startswith('A*')}\n",
    "len(set(hla_a_pseudosequence_dict.values()))"
   ]
  },
  {
   "cell_type": "code",
   "execution_count": 41,
   "metadata": {},
   "outputs": [
    {
     "name": "stdout",
     "output_type": "stream",
     "text": [
      "1387\n"
     ]
    }
   ],
   "source": [
    "#Also including null alleles\n",
    "print(len(set([convert_to_e_group(allele, e_group_dict=pseudosequence_dict, p_group_dict=p_group_dict) for allele in hla_a_df['Allele']])))"
   ]
  }
 ],
 "metadata": {
  "kernelspec": {
   "display_name": "Python 3.9.5 64-bit",
   "language": "python",
   "name": "python3"
  },
  "language_info": {
   "codemirror_mode": {
    "name": "ipython",
    "version": 3
   },
   "file_extension": ".py",
   "mimetype": "text/x-python",
   "name": "python",
   "nbconvert_exporter": "python",
   "pygments_lexer": "ipython3",
   "version": "3.9.5"
  },
  "orig_nbformat": 4,
  "vscode": {
   "interpreter": {
    "hash": "949777d72b0d2535278d3dc13498b2535136f6dfe0678499012e853ee9abcab1"
   }
  }
 },
 "nbformat": 4,
 "nbformat_minor": 2
}
