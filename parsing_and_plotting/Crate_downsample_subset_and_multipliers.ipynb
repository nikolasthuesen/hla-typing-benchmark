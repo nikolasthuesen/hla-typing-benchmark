{
 "cells": [
  {
   "cell_type": "code",
   "execution_count": 16,
   "metadata": {},
   "outputs": [],
   "source": [
    "import os\n",
    "from os import walk\n",
    "\n",
    "import pandas as pd\n",
    "import numpy as np\n",
    "import sys\n",
    "import re\n",
    "\n",
    "import matplotlib.pyplot as plt\n",
    "import numpy as np\n",
    "import seaborn as sns\n",
    "\n",
    "from collections import Counter\n",
    "\n",
    "%matplotlib inline\n",
    "\n",
    "pd.set_option('display.max_rows', 9000)\n",
    "pd.set_option('display.max_columns', 1500)\n",
    "pd.set_option('max_colwidth', 400)"
   ]
  },
  {
   "cell_type": "markdown",
   "metadata": {},
   "source": [
    "# Load result dataframes"
   ]
  },
  {
   "cell_type": "code",
   "execution_count": 17,
   "metadata": {},
   "outputs": [
    {
     "data": {
      "text/html": [
       "<div>\n",
       "<style scoped>\n",
       "    .dataframe tbody tr th:only-of-type {\n",
       "        vertical-align: middle;\n",
       "    }\n",
       "\n",
       "    .dataframe tbody tr th {\n",
       "        vertical-align: top;\n",
       "    }\n",
       "\n",
       "    .dataframe thead th {\n",
       "        text-align: right;\n",
       "    }\n",
       "</style>\n",
       "<table border=\"1\" class=\"dataframe\">\n",
       "  <thead>\n",
       "    <tr style=\"text-align: right;\">\n",
       "      <th></th>\n",
       "      <th>mean_depth</th>\n",
       "    </tr>\n",
       "  </thead>\n",
       "  <tbody>\n",
       "    <tr>\n",
       "      <th>HG00384</th>\n",
       "      <td>85.06</td>\n",
       "    </tr>\n",
       "    <tr>\n",
       "      <th>NA19448</th>\n",
       "      <td>74.82</td>\n",
       "    </tr>\n",
       "    <tr>\n",
       "      <th>HG01498</th>\n",
       "      <td>96.26</td>\n",
       "    </tr>\n",
       "    <tr>\n",
       "      <th>HG00705</th>\n",
       "      <td>99.01</td>\n",
       "    </tr>\n",
       "    <tr>\n",
       "      <th>HG00693</th>\n",
       "      <td>95.60</td>\n",
       "    </tr>\n",
       "  </tbody>\n",
       "</table>\n",
       "</div>"
      ],
      "text/plain": [
       "         mean_depth\n",
       "HG00384       85.06\n",
       "NA19448       74.82\n",
       "HG01498       96.26\n",
       "HG00705       99.01\n",
       "HG00693       95.60"
      ]
     },
     "execution_count": 17,
     "metadata": {},
     "output_type": "execute_result"
    }
   ],
   "source": [
    "#Overall result dataframe:\n",
    "\n",
    "coverage_per_sample = pd.read_csv('result_data/sample_depth.csv', index_col=[0])\n",
    "coverage_per_sample.head()"
   ]
  },
  {
   "cell_type": "markdown",
   "metadata": {},
   "source": [
    "# Make downsampling dataframe"
   ]
  },
  {
   "cell_type": "code",
   "execution_count": 18,
   "metadata": {},
   "outputs": [],
   "source": [
    "coverage_per_sample['200X'] = 200 / coverage_per_sample['mean_depth'] \n",
    "coverage_per_sample['146X'] = 146 / coverage_per_sample['mean_depth'] \n",
    "coverage_per_sample['100X'] = 100 / coverage_per_sample['mean_depth'] \n",
    "coverage_per_sample['75X'] = 75 / coverage_per_sample['mean_depth'] \n",
    "coverage_per_sample['50X'] = 50 / coverage_per_sample['mean_depth'] \n",
    "coverage_per_sample['20X'] = 20 / coverage_per_sample['mean_depth']\n",
    "coverage_per_sample['10X'] = 10 / coverage_per_sample['mean_depth']\n",
    "coverage_per_sample['5X'] = 5 / coverage_per_sample['mean_depth'] \n",
    "coverage_per_sample['2X'] = 2 / coverage_per_sample['mean_depth']\n",
    "coverage_per_sample['1X'] = 1 / coverage_per_sample['mean_depth']"
   ]
  },
  {
   "cell_type": "code",
   "execution_count": 19,
   "metadata": {},
   "outputs": [
    {
     "name": "stdout",
     "output_type": "stream",
     "text": [
      "230\n",
      "79\n",
      "47\n"
     ]
    }
   ],
   "source": [
    "df = coverage_per_sample[coverage_per_sample['mean_depth'] > 100]\n",
    "print(len(df.sort_values('mean_depth', ascending=False)))\n",
    "with open('result_data/sample_id_min_100X.txt', 'w') as outfile:\n",
    "    for sample_id in list(df.index):\n",
    "        outfile.write(f'{sample_id}\\n')\n",
    "\n",
    "df = coverage_per_sample[coverage_per_sample['mean_depth'] > 125]\n",
    "print(len(df.sort_values('mean_depth', ascending=False)))\n",
    "with open('result_data/sample_id_min_125X.txt', 'w') as outfile:\n",
    "    for sample_id in list(df.index):\n",
    "        outfile.write(f'{sample_id}\\n')\n",
    "\n",
    "df = coverage_per_sample[coverage_per_sample['mean_depth'] > 150]\n",
    "print(len(df.sort_values('mean_depth', ascending=False)))\n",
    "with open('result_data/sample_id_min_150X.txt', 'w') as outfile:\n",
    "    for sample_id in list(df.index):\n",
    "        outfile.write(f'{sample_id}\\n')\n"
   ]
  },
  {
   "cell_type": "code",
   "execution_count": 20,
   "metadata": {},
   "outputs": [
    {
     "data": {
      "text/html": [
       "<div>\n",
       "<style scoped>\n",
       "    .dataframe tbody tr th:only-of-type {\n",
       "        vertical-align: middle;\n",
       "    }\n",
       "\n",
       "    .dataframe tbody tr th {\n",
       "        vertical-align: top;\n",
       "    }\n",
       "\n",
       "    .dataframe thead th {\n",
       "        text-align: right;\n",
       "    }\n",
       "</style>\n",
       "<table border=\"1\" class=\"dataframe\">\n",
       "  <thead>\n",
       "    <tr style=\"text-align: right;\">\n",
       "      <th></th>\n",
       "      <th>mean_depth</th>\n",
       "      <th>200X</th>\n",
       "      <th>146X</th>\n",
       "      <th>100X</th>\n",
       "      <th>75X</th>\n",
       "      <th>50X</th>\n",
       "      <th>20X</th>\n",
       "      <th>10X</th>\n",
       "      <th>5X</th>\n",
       "      <th>2X</th>\n",
       "      <th>1X</th>\n",
       "    </tr>\n",
       "  </thead>\n",
       "  <tbody>\n",
       "    <tr>\n",
       "      <th>NA20313</th>\n",
       "      <td>456.34</td>\n",
       "      <td>0.438270</td>\n",
       "      <td>0.319937</td>\n",
       "      <td>0.219135</td>\n",
       "      <td>0.164351</td>\n",
       "      <td>0.109567</td>\n",
       "      <td>0.043827</td>\n",
       "      <td>0.021913</td>\n",
       "      <td>0.010957</td>\n",
       "      <td>0.004383</td>\n",
       "      <td>0.002191</td>\n",
       "    </tr>\n",
       "    <tr>\n",
       "      <th>HG00731</th>\n",
       "      <td>345.07</td>\n",
       "      <td>0.579593</td>\n",
       "      <td>0.423103</td>\n",
       "      <td>0.289796</td>\n",
       "      <td>0.217347</td>\n",
       "      <td>0.144898</td>\n",
       "      <td>0.057959</td>\n",
       "      <td>0.028980</td>\n",
       "      <td>0.014490</td>\n",
       "      <td>0.005796</td>\n",
       "      <td>0.002898</td>\n",
       "    </tr>\n",
       "    <tr>\n",
       "      <th>HG01873</th>\n",
       "      <td>305.59</td>\n",
       "      <td>0.654472</td>\n",
       "      <td>0.477764</td>\n",
       "      <td>0.327236</td>\n",
       "      <td>0.245427</td>\n",
       "      <td>0.163618</td>\n",
       "      <td>0.065447</td>\n",
       "      <td>0.032724</td>\n",
       "      <td>0.016362</td>\n",
       "      <td>0.006545</td>\n",
       "      <td>0.003272</td>\n",
       "    </tr>\n",
       "    <tr>\n",
       "      <th>HG00732</th>\n",
       "      <td>298.06</td>\n",
       "      <td>0.671006</td>\n",
       "      <td>0.489834</td>\n",
       "      <td>0.335503</td>\n",
       "      <td>0.251627</td>\n",
       "      <td>0.167751</td>\n",
       "      <td>0.067101</td>\n",
       "      <td>0.033550</td>\n",
       "      <td>0.016775</td>\n",
       "      <td>0.006710</td>\n",
       "      <td>0.003355</td>\n",
       "    </tr>\n",
       "    <tr>\n",
       "      <th>HG01872</th>\n",
       "      <td>280.99</td>\n",
       "      <td>0.711769</td>\n",
       "      <td>0.519591</td>\n",
       "      <td>0.355885</td>\n",
       "      <td>0.266913</td>\n",
       "      <td>0.177942</td>\n",
       "      <td>0.071177</td>\n",
       "      <td>0.035588</td>\n",
       "      <td>0.017794</td>\n",
       "      <td>0.007118</td>\n",
       "      <td>0.003559</td>\n",
       "    </tr>\n",
       "  </tbody>\n",
       "</table>\n",
       "</div>"
      ],
      "text/plain": [
       "         mean_depth      200X      146X      100X       75X       50X  \\\n",
       "NA20313      456.34  0.438270  0.319937  0.219135  0.164351  0.109567   \n",
       "HG00731      345.07  0.579593  0.423103  0.289796  0.217347  0.144898   \n",
       "HG01873      305.59  0.654472  0.477764  0.327236  0.245427  0.163618   \n",
       "HG00732      298.06  0.671006  0.489834  0.335503  0.251627  0.167751   \n",
       "HG01872      280.99  0.711769  0.519591  0.355885  0.266913  0.177942   \n",
       "\n",
       "              20X       10X        5X        2X        1X  \n",
       "NA20313  0.043827  0.021913  0.010957  0.004383  0.002191  \n",
       "HG00731  0.057959  0.028980  0.014490  0.005796  0.002898  \n",
       "HG01873  0.065447  0.032724  0.016362  0.006545  0.003272  \n",
       "HG00732  0.067101  0.033550  0.016775  0.006710  0.003355  \n",
       "HG01872  0.071177  0.035588  0.017794  0.007118  0.003559  "
      ]
     },
     "execution_count": 20,
     "metadata": {},
     "output_type": "execute_result"
    }
   ],
   "source": [
    "coverage_per_sample.sort_values('mean_depth', ascending=False).head()"
   ]
  },
  {
   "cell_type": "code",
   "execution_count": 21,
   "metadata": {},
   "outputs": [],
   "source": [
    "high_coverage_samples = list(coverage_per_sample[coverage_per_sample['mean_depth'] > 110].index)"
   ]
  },
  {
   "cell_type": "code",
   "execution_count": 22,
   "metadata": {},
   "outputs": [
    {
     "name": "stdout",
     "output_type": "stream",
     "text": [
      "13\n",
      "50\n",
      "230\n",
      "543\n",
      "779\n",
      "829\n",
      "829\n",
      "829\n",
      "829\n",
      "829\n"
     ]
    }
   ],
   "source": [
    "print(len(coverage_per_sample[coverage_per_sample['200X'] < 1]))\n",
    "print(len(coverage_per_sample[coverage_per_sample['146X'] < 1]))\n",
    "print(len(coverage_per_sample[coverage_per_sample['100X'] < 1]))\n",
    "print(len(coverage_per_sample[coverage_per_sample['75X'] < 1]))\n",
    "print(len(coverage_per_sample[coverage_per_sample['50X'] < 1]))\n",
    "print(len(coverage_per_sample[coverage_per_sample['20X'] < 1]))\n",
    "print(len(coverage_per_sample[coverage_per_sample['10X'] < 1]))\n",
    "print(len(coverage_per_sample[coverage_per_sample['5X'] < 1]))\n",
    "print(len(coverage_per_sample[coverage_per_sample['2X'] < 1]))\n",
    "print(len(coverage_per_sample[coverage_per_sample['1X'] < 1]))"
   ]
  },
  {
   "cell_type": "code",
   "execution_count": 23,
   "metadata": {},
   "outputs": [
    {
     "name": "stdout",
     "output_type": "stream",
     "text": [
      "230\n"
     ]
    }
   ],
   "source": [
    "print(len(coverage_per_sample[coverage_per_sample['100X'] < 1]))"
   ]
  },
  {
   "cell_type": "code",
   "execution_count": 24,
   "metadata": {},
   "outputs": [
    {
     "data": {
      "text/plain": [
       "89.95799758745476"
      ]
     },
     "execution_count": 24,
     "metadata": {},
     "output_type": "execute_result"
    }
   ],
   "source": [
    "np.mean(list(coverage_per_sample['mean_depth']))"
   ]
  },
  {
   "cell_type": "code",
   "execution_count": 25,
   "metadata": {},
   "outputs": [],
   "source": [
    "coverage_per_sample_100 = coverage_per_sample[coverage_per_sample['mean_depth'] > 100]\n",
    "\n",
    "coverage_100_id_list = list(coverage_per_sample_100.index)\n",
    "\n",
    "converage_100_multipliers = list(coverage_per_sample_100['100X'])\n",
    "converage_50_multipliers = list(coverage_per_sample_100['50X'])\n",
    "converage_20_multipliers = list(coverage_per_sample_100['20X'])\n",
    "converage_10_multipliers = list(coverage_per_sample_100['10X'])\n",
    "converage_5_multipliers = list(coverage_per_sample_100['5X'])\n",
    "converage_2_multipliers = list(coverage_per_sample_100['2X'])\n",
    "converage_1_multipliers = list(coverage_per_sample_100['1X'])"
   ]
  },
  {
   "cell_type": "markdown",
   "metadata": {},
   "source": [
    "## Write configfiles with multipliers for downsampling"
   ]
  },
  {
   "cell_type": "code",
   "execution_count": 26,
   "metadata": {},
   "outputs": [],
   "source": [
    "snakemake_folder_path = '../Snakemake/'\n",
    "\n",
    "configfile_100 = snakemake_folder_path + \"config_100X.yaml\"\n",
    "configfile_75 = snakemake_folder_path + 'config_75X.yaml'\n",
    "configfile_50 = snakemake_folder_path + 'config_50X.yaml'\n",
    "configfile_20 = snakemake_folder_path + 'config_20X.yaml'\n",
    "configfile_10 = snakemake_folder_path + 'config_10X.yaml'\n",
    "configfile_5 = snakemake_folder_path + 'config_5X.yaml'\n",
    "configfile_2 = snakemake_folder_path + 'config_2X.yaml'\n",
    "configfile_1 = snakemake_folder_path + 'config_1X.yaml'\n",
    "\n",
    "with open(configfile_100, 'w') as outfile:\n",
    "    outfile.write('sample_downsample_fraction:\\n')\n",
    "    for sample_id in coverage_100_id_list:\n",
    "        outfile.write(\"  \" + sample_id + \": \" +  \"\\\"\" + str(coverage_per_sample_100.loc[sample_id, '100X'])[2:] + \"\\\"\" + '\\n')\n",
    "\n",
    "with open(configfile_75, 'w') as outfile:\n",
    "    outfile.write('sample_downsample_fraction:\\n')\n",
    "    for sample_id in coverage_100_id_list:\n",
    "        outfile.write(\"  \" + sample_id + \": \" +  \"\\\"\" + str(coverage_per_sample_100.loc[sample_id, '75X'])[2:] + \"\\\"\" + '\\n')\n",
    "        \n",
    "with open(configfile_50, 'w') as outfile:\n",
    "    outfile.write('sample_downsample_fraction:\\n')\n",
    "    for sample_id in coverage_100_id_list:\n",
    "        outfile.write(\"  \" + sample_id + \": \" +  \"\\\"\" + str(coverage_per_sample_100.loc[sample_id, '50X'])[2:] + \"\\\"\" + '\\n')\n",
    "\n",
    "with open(configfile_20, 'w') as outfile:\n",
    "    outfile.write('sample_downsample_fraction:\\n')\n",
    "    for sample_id in coverage_100_id_list:\n",
    "        outfile.write(\"  \" + sample_id + \": \" +  \"\\\"\" + str(coverage_per_sample_100.loc[sample_id, '20X'])[2:] + \"\\\"\" + '\\n')\n",
    "\n",
    "with open(configfile_10, 'w') as outfile:\n",
    "    outfile.write('sample_downsample_fraction:\\n')\n",
    "    for sample_id in coverage_100_id_list:\n",
    "        outfile.write(\"  \" + sample_id + \": \" +  \"\\\"\" + str(coverage_per_sample_100.loc[sample_id, '10X'])[2:] + \"\\\"\" + '\\n')\n",
    "\n",
    "with open(configfile_5, 'w') as outfile:\n",
    "    outfile.write('sample_downsample_fraction:\\n')\n",
    "    for sample_id in coverage_100_id_list:\n",
    "        outfile.write(\"  \" + sample_id + \": \" +  \"\\\"\" + str(coverage_per_sample_100.loc[sample_id, '5X'])[2:] + \"\\\"\" + '\\n')\n",
    "\n",
    "with open(configfile_2, 'w') as outfile:\n",
    "    outfile.write('sample_downsample_fraction:\\n')\n",
    "    for sample_id in coverage_100_id_list:\n",
    "        outfile.write(\"  \" + sample_id + \": \" +  \"\\\"\" + str(coverage_per_sample_100.loc[sample_id, '2X'])[2:] + \"\\\"\" + '\\n')\n",
    "\n",
    "with open(configfile_1, 'w') as outfile:\n",
    "    outfile.write('sample_downsample_fraction:\\n')\n",
    "    for sample_id in coverage_100_id_list:\n",
    "        outfile.write(\"  \" + sample_id + \": \" +  \"\\\"\" + str(coverage_per_sample_100.loc[sample_id, '1X'])[2:] + \"\\\"\" + '\\n') "
   ]
  },
  {
   "cell_type": "markdown",
   "metadata": {},
   "source": [
    "# Write Configfile for Gargammel (aDNA) project"
   ]
  },
  {
   "cell_type": "code",
   "execution_count": 27,
   "metadata": {},
   "outputs": [
    {
     "name": "stdout",
     "output_type": "stream",
     "text": [
      "50\n"
     ]
    }
   ],
   "source": [
    "print(len(coverage_per_sample[coverage_per_sample['146X'] < 1]))"
   ]
  },
  {
   "cell_type": "code",
   "execution_count": 28,
   "metadata": {},
   "outputs": [],
   "source": [
    "coverage_per_sample_146 = coverage_per_sample[coverage_per_sample['mean_depth'] > 146]\n",
    "\n",
    "coverage_146_id_list = list(coverage_per_sample_146.index)"
   ]
  },
  {
   "cell_type": "code",
   "execution_count": 29,
   "metadata": {},
   "outputs": [],
   "source": [
    "with open('../aDNA/config.yaml', 'w') as outfile:\n",
    "    outfile.write('sample_name:\\n')\n",
    "    for sample_id in coverage_146_id_list:\n",
    "        outfile.write(\"  \" + sample_id + '\\n')\n"
   ]
  },
  {
   "cell_type": "code",
   "execution_count": null,
   "metadata": {},
   "outputs": [],
   "source": []
  }
 ],
 "metadata": {
  "interpreter": {
   "hash": "949777d72b0d2535278d3dc13498b2535136f6dfe0678499012e853ee9abcab1"
  },
  "kernelspec": {
   "display_name": "Python 3.9.5 64-bit",
   "language": "python",
   "name": "python3"
  },
  "language_info": {
   "codemirror_mode": {
    "name": "ipython",
    "version": 3
   },
   "file_extension": ".py",
   "mimetype": "text/x-python",
   "name": "python",
   "nbconvert_exporter": "python",
   "pygments_lexer": "ipython3",
   "version": "3.9.5"
  }
 },
 "nbformat": 4,
 "nbformat_minor": 2
}
